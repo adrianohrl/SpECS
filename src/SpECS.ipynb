{
 "cells": [
  {
   "cell_type": "markdown",
   "metadata": {
    "colab_type": "text",
    "id": "BlmQIFSLZDdc"
   },
   "source": [
    "# Confirm TensorFlow can see the GPU\n",
    "\n",
    "Simply select \"GPU\" in the Accelerator drop-down in Notebook Settings (either through the Edit menu or the command palette at cmd/ctrl-shift-P)."
   ]
  },
  {
   "cell_type": "code",
   "execution_count": null,
   "metadata": {
    "colab": {
     "base_uri": "https://localhost:8080/",
     "height": 34
    },
    "colab_type": "code",
    "collapsed": false,
    "id": "3IEVK-KFxi5Z",
    "outputId": "bb971f50-05f3-4840-9ffd-d7aaf9ddc59a"
   },
   "outputs": [],
   "source": [
    "import tensorflow as tf\n",
    "device_name = tf.test.gpu_device_name()\n",
    "print('Device name: {}'.format(device_name))\n",
    "if device_name != '/device:GPU:0':\n",
    "    raise SystemError('GPU device not found')\n",
    "print('Found GPU at: {}'.format(device_name))"
   ]
  },
  {
   "cell_type": "markdown",
   "metadata": {
    "colab_type": "text",
    "id": "2L10VMH5oq1s"
   },
   "source": [
    "# Setting up"
   ]
  },
  {
   "cell_type": "code",
   "execution_count": null,
   "metadata": {
    "colab": {
     "base_uri": "https://localhost:8080/",
     "height": 12767
    },
    "colab_type": "code",
    "collapsed": false,
    "id": "7YNnatlNbWce",
    "outputId": "5303ca3b-d335-432d-e700-d168473824cf"
   },
   "outputs": [],
   "source": [
    "!pip install librosa\n",
    "!pip install matplotlib\n",
    "!pip install pandas\n",
    "!pip install numpy\n",
    "!sudo add-apt-repository ppa:djcj/hybrid -y\n",
    "!sudo apt-get update -y\n",
    "!sudo apt-get install ffmpeg -y"
   ]
  },
  {
   "cell_type": "code",
   "execution_count": 1,
   "metadata": {
    "colab": {},
    "colab_type": "code",
    "collapsed": false,
    "id": "B7ZZrgKm1hri"
   },
   "outputs": [
    {
     "name": "stderr",
     "output_type": "stream",
     "text": [
      "/home/adrianohrl/anaconda3/lib/python3.5/site-packages/numba/errors.py:104: UserWarning: Insufficiently recent colorama version found. Numba requires colorama >= 0.3.9\n",
      "  warnings.warn(msg)\n"
     ]
    }
   ],
   "source": [
    "import os\n",
    "import pandas as pd\n",
    "import numpy as np\n",
    "import librosa\n",
    "import librosa.display\n",
    "import librosa.output\n",
    "import IPython.display as ipd\n",
    "#import matplotlib.pyplot as plt\n",
    "#%matplotlib inline\n",
    "PATH = '../datasets' #'/root/datasets'"
   ]
  },
  {
   "cell_type": "markdown",
   "metadata": {
    "colab_type": "text",
    "id": "gUx6qBMGo2Ci"
   },
   "source": [
    "# Importing Dataset"
   ]
  },
  {
   "cell_type": "code",
   "execution_count": null,
   "metadata": {
    "colab": {
     "base_uri": "https://localhost:8080/",
     "height": 23931
    },
    "colab_type": "code",
    "collapsed": false,
    "id": "xCPdrVkSoYA5",
    "outputId": "398af21c-528c-49c1-a4bb-5915215bbbe1",
    "scrolled": true
   },
   "outputs": [],
   "source": [
    "!rm -rf ./sample_data/*\n",
    "!rm -rf /root/datasets\n",
    "!pip install -U -q PyDrive\n",
    "import os\n",
    "import sys\n",
    "from tqdm import tqdm\n",
    "from pydrive.auth import GoogleAuth\n",
    "from pydrive.drive import GoogleDrive\n",
    "from google.colab import auth\n",
    "from oauth2client.client import GoogleCredentials\n",
    "\n",
    "# 1. Authenticate and create the PyDrive client.\n",
    "auth.authenticate_user()\n",
    "gauth = GoogleAuth()\n",
    "gauth.credentials = GoogleCredentials.get_application_default()\n",
    "drive = GoogleDrive(gauth)\n",
    "\n",
    "# choose a local (colab) directory to store the data.\n",
    "local_download_path = os.path.expanduser(os.path.join(PATH, 'raw'))\n",
    "try:\n",
    "    os.makedirs(local_download_path)\n",
    "except: pass\n",
    "\n",
    "# 2. Auto-iterate using the query syntax\n",
    "#    https://developers.google.com/drive/v2/web/search-parameters\n",
    "file_list = drive.ListFile({'q': \"'1hNxLdzo8GyzwD6EGuJNdye6N1h0mcRlX' in parents\"}).GetList()\n",
    "\n",
    "with tqdm(total=len(file_list), file=sys.stdout) as pbar:\n",
    "    for f in file_list:\n",
    "        fname = os.path.join(local_download_path, f['title'])\n",
    "        pbar.write('[title: %s, id: %s] downloading to %s' % (f['title'], f['id'], fname))\n",
    "        pbar.update(1)\n",
    "        f_ = drive.CreateFile({'id': f['id']})\n",
    "        f_.GetContentFile(fname)\n",
    "\n",
    "# choose a local (colab) directory to store the data.\n",
    "local_download_path = os.path.expanduser(os.path.join(PATH, 'noise'))\n",
    "try:\n",
    "    os.makedirs(local_download_path)\n",
    "except: pass\n",
    "\n",
    "# 2. Auto-iterate using the query syntax\n",
    "#    https://developers.google.com/drive/v2/web/search-parameters\n",
    "file_list = drive.ListFile({'q': \"'18WwnYEglonXHw7cHZnL_iYTrNAqaqliL' in parents\"}).GetList()\n",
    "\n",
    "with tqdm(total=len(file_list), file=sys.stdout) as pbar:\n",
    "    for f in file_list:\n",
    "        fname = os.path.join(local_download_path, f['title'])\n",
    "        pbar.write('[title: %s, id: %s] downloading to %s' % (f['title'], f['id'], fname))\n",
    "        pbar.update(1)\n",
    "        f_ = drive.CreateFile({'id': f['id']})\n",
    "        f_.GetContentFile(fname)"
   ]
  },
  {
   "cell_type": "code",
   "execution_count": null,
   "metadata": {
    "colab": {
     "base_uri": "https://localhost:8080/",
     "height": 21830
    },
    "colab_type": "code",
    "collapsed": false,
    "id": "-zwrtjNgoL63",
    "outputId": "2bc18409-2f63-41c7-ee02-098d152525de",
    "scrolled": true
   },
   "outputs": [],
   "source": [
    "PATH = '../datasets'\n",
    "path = os.path.join(PATH, 'input')\n",
    "counter = 0\n",
    "for parent, dirs, files in os.walk(path):\n",
    "    for file in files:\n",
    "        ext = os.path.splitext(file)[1][1:]\n",
    "        if not parent.endswith(ext):\n",
    "            dest = os.path.join(parent, ext)\n",
    "            if not os.path.exists(dest):\n",
    "                os.mkdir(dest)\n",
    "            src, dest = os.path.join(parent, file), os.path.join(dest, file)\n",
    "            os.rename(src, dest)\n",
    "            counter += 1\n",
    "            print('Moved {} to {}'.format(src, dest))\n",
    "print('Moved {} files.'.format(counter))"
   ]
  },
  {
   "cell_type": "code",
   "execution_count": 2,
   "metadata": {
    "colab": {},
    "colab_type": "code",
    "collapsed": true,
    "id": "GhfAfo1GpFDY"
   },
   "outputs": [],
   "source": [
    "   \n",
    "def stretch(data, r = 1.0):\n",
    "    return librosa.effects.time_stretch(data, r)\n",
    "    \n",
    "def noise(x, **params):\n",
    "    noise = np.zeros(x.shape)\n",
    "    noise_type = params['type'] if 'type' in params else 'white'\n",
    "    if noise_type == 'white':\n",
    "        distribution = params['distribution'] if 'distribution' in params else 'gaussian'\n",
    "        sigma = params['sigma'] if 'sigma' in params else 0.005\n",
    "        if distribution == 'gaussian':\n",
    "            noise = np.random.normal(scale = sigma, size = x.shape)\n",
    "        elif distribution == 'uniform':\n",
    "            noise = np.random.uniform(low = -sigma, high = sigma, size = x.shape)\n",
    "    return x + noise\n",
    "\n",
    "def plot(x, sr, title = 'Raw Data'):\n",
    "    plt.figure(figsize = (14, 5))\n",
    "    plt.title(title)\n",
    "    librosa.display.waveplot(x, sr = sr)\n",
    "    plt.show()"
   ]
  },
  {
   "cell_type": "code",
   "execution_count": null,
   "metadata": {
    "colab": {
     "base_uri": "https://localhost:8080/",
     "height": 21847
    },
    "colab_type": "code",
    "collapsed": false,
    "id": "uHN8iiZt2FcV",
    "outputId": "67f6bcc5-f1d2-4d5a-c31c-043fae9d5123",
    "scrolled": true
   },
   "outputs": [
    {
     "name": "stdout",
     "output_type": "stream",
     "text": [
      "Generated new noisy audio file and saved in ../datasets/input/white-0.019352465823520765-gaussian-sr8kHz-art167a.wav!\n",
      "Generated new noisy audio file and saved in ../datasets/input/white-0.03929963866122016-gaussian-sr8kHz-art150b.wav!\n",
      "Generated new noisy audio file and saved in ../datasets/input/white-0.023068998935443025-gaussian-sr8kHz-dt044d.wav!\n",
      "Generated new noisy audio file and saved in ../datasets/input/white-0.03934072838659249-gaussian-sr8kHz-art007l.wav!\n",
      "Generated new noisy audio file and saved in ../datasets/input/white-0.01956501238003407-gaussian-sr8kHz-art160b.wav!\n",
      "Generated new noisy audio file and saved in ../datasets/input/white-0.028920179739528012-gaussian-sr8kHz-art149-d.wav!\n",
      "Generated new noisy audio file and saved in ../datasets/input/white-0.007553427298528436-gaussian-sr8kHz-dt072j.wav!\n",
      "Generated new noisy audio file and saved in ../datasets/input/white-0.024169869220396233-gaussian-sr8kHz-art005o.wav!\n",
      "Generated new noisy audio file and saved in ../datasets/input/white-0.032339534641992455-gaussian-sr8kHz-art139b.wav!\n",
      "Generated new noisy audio file and saved in ../datasets/input/white-0.04326241251608109-gaussian-sr8kHz-art093e.wav!\n",
      "Generated new noisy audio file and saved in ../datasets/input/white-0.03231435240765766-gaussian-sr8kHz-art199c.wav!\n",
      "Generated new noisy audio file and saved in ../datasets/input/white-0.042957310812711466-gaussian-sr8kHz-art005h.wav!\n",
      "Generated new noisy audio file and saved in ../datasets/input/white-0.036602296933533396-gaussian-sr8kHz-art067.wav!\n",
      "Generated new noisy audio file and saved in ../datasets/input/white-0.01925359887359324-gaussian-sr8kHz-art204b.wav!\n",
      "Generated new noisy audio file and saved in ../datasets/input/white-0.016641597697610668-gaussian-sr8kHz-art102h.wav!\n",
      "Generated new noisy audio file and saved in ../datasets/input/white-0.04007755559336966-gaussian-sr8kHz-art071c.wav!\n",
      "Generated new noisy audio file and saved in ../datasets/input/white-0.0208210896243937-gaussian-sr8kHz-art104b.wav!\n",
      "Generated new noisy audio file and saved in ../datasets/input/white-0.029309524163564925-gaussian-sr8kHz-art024b.wav!\n",
      "Generated new noisy audio file and saved in ../datasets/input/white-0.009711527410728258-gaussian-sr8kHz-art199b.wav!\n",
      "Generated new noisy audio file and saved in ../datasets/input/white-0.034621132444073464-gaussian-sr8kHz-art121b.wav!\n",
      "Generated new noisy audio file and saved in ../datasets/input/white-0.020380895946051178-gaussian-sr8kHz-art227c.wav!\n",
      "Generated new noisy audio file and saved in ../datasets/input/white-0.04982859398306281-gaussian-sr8kHz-art029k.wav!\n",
      "Generated new noisy audio file and saved in ../datasets/input/white-0.04889781071670788-gaussian-sr8kHz-dt013g.wav!\n",
      "Generated new noisy audio file and saved in ../datasets/input/white-0.027632790085173393-gaussian-sr8kHz-art163a.wav!\n",
      "Generated new noisy audio file and saved in ../datasets/input/white-0.04346698346455602-gaussian-sr8kHz-art212c.wav!\n",
      "Generated new noisy audio file and saved in ../datasets/input/white-0.0034969539778021805-gaussian-sr8kHz-art177b.wav!\n",
      "Generated new noisy audio file and saved in ../datasets/input/white-0.0058369410106138804-gaussian-sr8kHz-dt082a.wav!\n",
      "Generated new noisy audio file and saved in ../datasets/input/white-0.0032018673227455015-gaussian-sr8kHz-art150c.wav!\n",
      "Generated new noisy audio file and saved in ../datasets/input/white-0.041568216999824555-gaussian-sr8kHz-art057b.wav!\n",
      "Generated new noisy audio file and saved in ../datasets/input/white-0.026892758526008493-gaussian-sr8kHz-dt008e.wav!\n",
      "Generated new noisy audio file and saved in ../datasets/input/white-0.01638212229751967-gaussian-sr8kHz-dt049a.wav!\n",
      "Generated new noisy audio file and saved in ../datasets/input/white-0.008175913760112277-gaussian-sr8kHz-art049g.wav!\n",
      "Generated new noisy audio file and saved in ../datasets/input/white-0.049675923225238124-gaussian-sr8kHz-art007f.wav!\n",
      "Generated new noisy audio file and saved in ../datasets/input/white-0.011080393686430202-gaussian-sr8kHz-art047.wav!\n",
      "Generated new noisy audio file and saved in ../datasets/input/white-0.024097663634872972-gaussian-sr8kHz-art039f.wav!\n",
      "Generated new noisy audio file and saved in ../datasets/input/white-0.00738272653693066-gaussian-sr8kHz-art062c.wav!\n",
      "Generated new noisy audio file and saved in ../datasets/input/white-0.010489590425508115-gaussian-sr8kHz-art130ah.wav!\n",
      "Generated new noisy audio file and saved in ../datasets/input/white-0.008494803481318234-gaussian-sr8kHz-dt057b.wav!\n",
      "Generated new noisy audio file and saved in ../datasets/input/white-0.030734008157104607-gaussian-sr8kHz-art205.wav!\n",
      "Generated new noisy audio file and saved in ../datasets/input/white-0.012857221618553728-gaussian-sr8kHz-dt072a.wav!\n",
      "Generated new noisy audio file and saved in ../datasets/input/white-0.008404665337458752-gaussian-sr8kHz-art014i.wav!\n",
      "Generated new noisy audio file and saved in ../datasets/input/white-0.03907733471565424-gaussian-sr8kHz-art081.wav!\n",
      "Generated new noisy audio file and saved in ../datasets/input/white-0.021868579804109594-gaussian-sr8kHz-dt034m.wav!\n",
      "Generated new noisy audio file and saved in ../datasets/input/white-0.044148651263597335-gaussian-sr8kHz-art021i.wav!\n",
      "Generated new noisy audio file and saved in ../datasets/input/white-0.04693548688231887-gaussian-sr8kHz-art206b.wav!\n",
      "Generated new noisy audio file and saved in ../datasets/input/white-0.0454597500795592-gaussian-sr8kHz-art166d.wav!\n",
      "Generated new noisy audio file and saved in ../datasets/input/white-0.016749244387299966-gaussian-sr8kHz-art239b.wav!\n",
      "Generated new noisy audio file and saved in ../datasets/input/white-0.0031229405208990347-gaussian-sr8kHz-art014b.wav!\n",
      "Generated new noisy audio file and saved in ../datasets/input/white-0.026851090861557726-gaussian-sr8kHz-dt072b.wav!\n",
      "Generated new noisy audio file and saved in ../datasets/input/white-0.04721183389761856-gaussian-sr8kHz-dt082b.wav!\n",
      "Generated new noisy audio file and saved in ../datasets/input/white-0.024125793267164623-gaussian-sr8kHz-art201i.wav!\n",
      "Generated new noisy audio file and saved in ../datasets/input/white-0.0409688887476904-gaussian-sr8kHz-art189.wav!\n",
      "Generated new noisy audio file and saved in ../datasets/input/white-0.0027493299028430213-gaussian-sr8kHz-art005y.wav!\n",
      "Generated new noisy audio file and saved in ../datasets/input/white-0.028583427802790152-gaussian-sr8kHz-dt015.wav!\n",
      "Generated new noisy audio file and saved in ../datasets/input/white-0.002896431789784171-gaussian-sr8kHz-art037l.wav!\n",
      "Generated new noisy audio file and saved in ../datasets/input/white-0.02119258033271413-gaussian-sr8kHz-art222a.wav!\n",
      "Generated new noisy audio file and saved in ../datasets/input/white-0.012200951329420985-gaussian-sr8kHz-art084f.wav!\n",
      "Generated new noisy audio file and saved in ../datasets/input/white-0.033742202077435106-gaussian-sr8kHz-art217c.wav!\n",
      "Generated new noisy audio file and saved in ../datasets/input/white-0.03223751774666548-gaussian-sr8kHz-art037i.wav!\n",
      "Generated new noisy audio file and saved in ../datasets/input/white-0.02470679958511814-gaussian-sr8kHz-art103-c.wav!\n",
      "Generated new noisy audio file and saved in ../datasets/input/white-0.015969806309786207-gaussian-sr8kHz-dt034e.wav!\n",
      "Generated new noisy audio file and saved in ../datasets/input/white-0.01795967925255282-gaussian-sr8kHz-art030a.wav!\n",
      "Generated new noisy audio file and saved in ../datasets/input/white-0.015929773089521603-gaussian-sr8kHz-art102a.wav!\n",
      "Generated new noisy audio file and saved in ../datasets/input/white-0.013194918481811917-gaussian-sr8kHz-art109e.wav!\n",
      "Generated new noisy audio file and saved in ../datasets/input/white-0.015263064047361066-gaussian-sr8kHz-art222b.wav!\n",
      "Generated new noisy audio file and saved in ../datasets/input/white-0.008265371743760762-gaussian-sr8kHz-art040n.wav!\n",
      "Generated new noisy audio file and saved in ../datasets/input/white-0.03291732083944592-gaussian-sr8kHz-art036f.wav!\n",
      "Generated new noisy audio file and saved in ../datasets/input/white-0.03598407066224004-gaussian-sr8kHz-art057f.wav!\n",
      "Generated new noisy audio file and saved in ../datasets/input/white-0.030779563917629385-gaussian-sr8kHz-art105b.wav!\n",
      "Generated new noisy audio file and saved in ../datasets/input/white-0.009825770362808899-gaussian-sr8kHz-art145a.wav!\n",
      "Generated new noisy audio file and saved in ../datasets/input/white-0.022688881205377258-gaussian-sr8kHz-art021j.wav!\n",
      "Generated new noisy audio file and saved in ../datasets/input/white-0.04010097439319402-gaussian-sr8kHz-art105g.wav!\n",
      "Generated new noisy audio file and saved in ../datasets/input/white-0.027371139521574987-gaussian-sr8kHz-art089b.wav!\n",
      "Generated new noisy audio file and saved in ../datasets/input/white-0.03850606099143719-gaussian-sr8kHz-art021a.wav!\n",
      "Generated new noisy audio file and saved in ../datasets/input/white-0.024082324224453912-gaussian-sr8kHz-art023e.wav!\n",
      "Generated new noisy audio file and saved in ../datasets/input/white-0.019598992403243306-gaussian-sr8kHz-dt088b.wav!\n",
      "Generated new noisy audio file and saved in ../datasets/input/white-0.04674690939158364-gaussian-sr8kHz-art182d.wav!\n",
      "Generated new noisy audio file and saved in ../datasets/input/white-0.0065047849900177115-gaussian-sr8kHz-dt056a.wav!\n",
      "Generated new noisy audio file and saved in ../datasets/input/white-0.029194993509848145-gaussian-sr8kHz-art057h.wav!\n",
      "Generated new noisy audio file and saved in ../datasets/input/white-0.009892934991179825-gaussian-sr8kHz-art185.wav!\n",
      "Generated new noisy audio file and saved in ../datasets/input/white-0.043334862941445174-gaussian-sr8kHz-art043b.wav!\n",
      "Generated new noisy audio file and saved in ../datasets/input/white-0.023006458447823976-gaussian-sr8kHz-art005e1.wav!\n",
      "Generated new noisy audio file and saved in ../datasets/input/white-0.036033267832114045-gaussian-sr8kHz-dt013i.wav!\n",
      "Generated new noisy audio file and saved in ../datasets/input/white-0.0373340934242714-gaussian-sr8kHz-art130ai.wav!\n",
      "Generated new noisy audio file and saved in ../datasets/input/white-0.035213371239018576-gaussian-sr8kHz-art236a.wav!\n",
      "Generated new noisy audio file and saved in ../datasets/input/white-0.04131647704600103-gaussian-sr8kHz-art147.wav!\n",
      "Generated new noisy audio file and saved in ../datasets/input/white-0.004721544418101834-gaussian-sr8kHz-art054b.wav!\n",
      "Generated new noisy audio file and saved in ../datasets/input/white-0.029620799580650746-gaussian-sr8kHz-art066a.wav!\n",
      "Generated new noisy audio file and saved in ../datasets/input/white-0.01512250959596026-gaussian-sr8kHz-art226b.wav!\n",
      "Generated new noisy audio file and saved in ../datasets/input/white-0.01253473134039668-gaussian-sr8kHz-art219.wav!\n",
      "Generated new noisy audio file and saved in ../datasets/input/white-0.015262814101733448-gaussian-sr8kHz-dt021a.wav!\n",
      "Generated new noisy audio file and saved in ../datasets/input/white-0.029697448414389142-gaussian-sr8kHz-art141.wav!\n",
      "Generated new noisy audio file and saved in ../datasets/input/white-0.03377385570394639-gaussian-sr8kHz-art139c.wav!\n",
      "Generated new noisy audio file and saved in ../datasets/input/white-0.0058386091682964825-gaussian-sr8kHz-dt030.wav!\n",
      "Generated new noisy audio file and saved in ../datasets/input/white-0.04899247418370759-gaussian-sr8kHz-art008d.wav!\n",
      "Generated new noisy audio file and saved in ../datasets/input/white-0.035331430201000366-gaussian-sr8kHz-art167g.wav!\n",
      "Generated new noisy audio file and saved in ../datasets/input/white-0.04542895493083709-gaussian-sr8kHz-art005j1.wav!\n",
      "Generated new noisy audio file and saved in ../datasets/input/white-0.028376462012056722-gaussian-sr8kHz-art168.wav!\n",
      "Generated new noisy audio file and saved in ../datasets/input/white-0.044752954801151164-gaussian-sr8kHz-dt086d.wav!\n",
      "Generated new noisy audio file and saved in ../datasets/input/white-0.0014008917354333206-gaussian-sr8kHz-art130af.wav!\n",
      "Generated new noisy audio file and saved in ../datasets/input/white-0.022819783270365886-gaussian-sr8kHz-art153a.wav!\n",
      "Generated new noisy audio file and saved in ../datasets/input/white-0.04057250296270273-gaussian-sr8kHz-dt085c.wav!\n",
      "Generated new noisy audio file and saved in ../datasets/input/white-0.03125249320853646-gaussian-sr8kHz-art166b.wav!\n",
      "Generated new noisy audio file and saved in ../datasets/input/white-0.013322353514295119-gaussian-sr8kHz-dt054b.wav!\n",
      "Generated new noisy audio file and saved in ../datasets/input/white-0.002810913099845413-gaussian-sr8kHz-art059a.wav!\n",
      "Generated new noisy audio file and saved in ../datasets/input/white-0.030063881624382265-gaussian-sr8kHz-art233.wav!\n",
      "Generated new noisy audio file and saved in ../datasets/input/white-0.010262167324346452-gaussian-sr8kHz-art239c.wav!\n",
      "Generated new noisy audio file and saved in ../datasets/input/white-0.03300873648054714-gaussian-sr8kHz-art100f.wav!\n",
      "Generated new noisy audio file and saved in ../datasets/input/white-0.009153331789316033-gaussian-sr8kHz-art011.wav!\n",
      "Generated new noisy audio file and saved in ../datasets/input/white-0.003936658427768172-gaussian-sr8kHz-dt017a.wav!\n",
      "Generated new noisy audio file and saved in ../datasets/input/white-0.016236546252811734-gaussian-sr8kHz-art166e.wav!\n",
      "Generated new noisy audio file and saved in ../datasets/input/white-0.028098482371484046-gaussian-sr8kHz-art090a.wav!\n",
      "Generated new noisy audio file and saved in ../datasets/input/white-0.002966825702508323-gaussian-sr8kHz-dt083.wav!\n",
      "Generated new noisy audio file and saved in ../datasets/input/white-0.00956671645569062-gaussian-sr8kHz-art102d.wav!\n",
      "Generated new noisy audio file and saved in ../datasets/input/white-0.026864017733566652-gaussian-sr8kHz-art014g.wav!\n",
      "Generated new noisy audio file and saved in ../datasets/input/white-0.032459508861484986-gaussian-sr8kHz-dt025b.wav!\n",
      "Generated new noisy audio file and saved in ../datasets/input/white-0.021218607754611304-gaussian-sr8kHz-art173e.wav!\n",
      "Generated new noisy audio file and saved in ../datasets/input/white-0.039150937464836326-gaussian-sr8kHz-art005g.wav!\n",
      "Generated new noisy audio file and saved in ../datasets/input/white-0.044896989661852925-gaussian-sr8kHz-art177d.wav!\n",
      "Generated new noisy audio file and saved in ../datasets/input/white-0.032417145797098375-gaussian-sr8kHz-art170a.wav!\n",
      "Generated new noisy audio file and saved in ../datasets/input/white-0.044081672695382254-gaussian-sr8kHz-art026a.wav!\n",
      "Generated new noisy audio file and saved in ../datasets/input/white-0.033355894367617704-gaussian-sr8kHz-dt012c.wav!\n",
      "Generated new noisy audio file and saved in ../datasets/input/white-0.005993841603411713-gaussian-sr8kHz-art065.wav!\n",
      "Generated new noisy audio file and saved in ../datasets/input/white-0.0077166930898418026-gaussian-sr8kHz-art020a.wav!\n",
      "Generated new noisy audio file and saved in ../datasets/input/white-0.03151791672496152-gaussian-sr8kHz-dt057d.wav!\n",
      "Generated new noisy audio file and saved in ../datasets/input/white-0.04917734605681102-gaussian-sr8kHz-art038b.wav!\n",
      "Generated new noisy audio file and saved in ../datasets/input/white-0.049844884911865055-gaussian-sr8kHz-art049d.wav!\n",
      "Generated new noisy audio file and saved in ../datasets/input/white-0.024312720783947056-gaussian-sr8kHz-art040i.wav!\n",
      "Generated new noisy audio file and saved in ../datasets/input/white-0.02535709161512716-gaussian-sr8kHz-art104a.wav!\n",
      "Generated new noisy audio file and saved in ../datasets/input/white-0.033773062667760215-gaussian-sr8kHz-art001b.wav!\n",
      "Generated new noisy audio file and saved in ../datasets/input/white-0.04728312484733482-gaussian-sr8kHz-art099a.wav!\n",
      "Generated new noisy audio file and saved in ../datasets/input/white-0.029621448699003565-gaussian-sr8kHz-art195i.wav!\n",
      "Generated new noisy audio file and saved in ../datasets/input/white-0.02304930321033261-gaussian-sr8kHz-art131b.wav!\n",
      "Generated new noisy audio file and saved in ../datasets/input/white-0.023229182123289713-gaussian-sr8kHz-art155r.wav!\n",
      "Generated new noisy audio file and saved in ../datasets/input/white-0.03723979026952448-gaussian-sr8kHz-art220d.wav!\n",
      "Generated new noisy audio file and saved in ../datasets/input/white-0.029482430396325473-gaussian-sr8kHz-art079.wav!\n",
      "Generated new noisy audio file and saved in ../datasets/input/white-0.016730120772464063-gaussian-sr8kHz-art018b.wav!\n",
      "Generated new noisy audio file and saved in ../datasets/input/white-0.04008482386985985-gaussian-sr8kHz-art228.wav!\n",
      "Generated new noisy audio file and saved in ../datasets/input/white-0.03697298275884755-gaussian-sr8kHz-art125b.wav!\n",
      "Generated new noisy audio file and saved in ../datasets/input/white-0.006996969285872164-gaussian-sr8kHz-art058b.wav!\n",
      "Generated new noisy audio file and saved in ../datasets/input/white-0.03190646149424694-gaussian-sr8kHz-dt035c.wav!\n",
      "Generated new noisy audio file and saved in ../datasets/input/white-0.022049012353327322-gaussian-sr8kHz-art220c.wav!\n",
      "Generated new noisy audio file and saved in ../datasets/input/white-0.04746565954694672-gaussian-sr8kHz-art136b.wav!\n",
      "Generated new noisy audio file and saved in ../datasets/input/white-0.02217320839858029-gaussian-sr8kHz-art159b.wav!\n",
      "Generated new noisy audio file and saved in ../datasets/input/white-0.03320003199606753-gaussian-sr8kHz-art128c.wav!\n",
      "Generated new noisy audio file and saved in ../datasets/input/white-0.009480331241119598-gaussian-sr8kHz-art150i.wav!\n",
      "Generated new noisy audio file and saved in ../datasets/input/white-0.038299073811919056-gaussian-sr8kHz-art048f.wav!\n",
      "Generated new noisy audio file and saved in ../datasets/input/white-0.025187621314538316-gaussian-sr8kHz-art060d.wav!\n",
      "Generated new noisy audio file and saved in ../datasets/input/white-0.0470176890643543-gaussian-sr8kHz-art165g.wav!\n",
      "Generated new noisy audio file and saved in ../datasets/input/white-0.010545623743489805-gaussian-sr8kHz-art103bi.wav!\n",
      "Generated new noisy audio file and saved in ../datasets/input/white-0.03484576918097583-gaussian-sr8kHz-dt049c.wav!\n"
     ]
    }
   ],
   "source": [
    "PATH = '../datasets'\n",
    "np.random.seed(42)\n",
    "df = pd.DataFrame(columns = ['input', 'output'])\n",
    "path = os.path.join(PATH, 'output')\n",
    "noisy_path = os.path.join(PATH, 'input')\n",
    "if not os.path.exists(noisy_path):\n",
    "    os.mkdir(noisy_path)\n",
    "counter = 0\n",
    "SIGMA_LOW = 1e-3\n",
    "SIGMA_HIGH = 5e-2\n",
    "NOISE_PARAMS = {'type': 'white', 'distribution': 'gaussian', 'sigma': 0.002}\n",
    "for parent, dirs, files in os.walk(path):\n",
    "    for file in files:\n",
    "        src = os.path.join(parent, file)\n",
    "        x, sr = librosa.load(src)\n",
    "        NOISE_PARAMS['sigma'] = np.random.uniform(SIGMA_LOW, SIGMA_HIGH)\n",
    "        x = noise(x, **NOISE_PARAMS)\n",
    "        dest = os.path.join(noisy_path, '{}-{}'.format('-'.join([str(v) for v in NOISE_PARAMS.values()]), file))\n",
    "        try:\n",
    "            librosa.output.write_wav(dest, x, sr)\n",
    "        except:\n",
    "            print('Leaving...')\n",
    "            break\n",
    "        df.loc[counter] = [dest, src]\n",
    "        counter += 1\n",
    "        print('Generated new noisy audio file and saved in {}!'.format(dest))\n",
    "print('Generated {} new noisy audio files.'.format(counter))\n",
    "df.to_csv(os.path.join(PATH, 'raw2noisy.csv'))"
   ]
  },
  {
   "cell_type": "code",
   "execution_count": null,
   "metadata": {
    "colab": {
     "base_uri": "https://localhost:8080/",
     "height": 34
    },
    "colab_type": "code",
    "collapsed": false,
    "id": "Zd1syA90ShiI",
    "outputId": "fe7921c6-dc08-4525-e69a-1a37dc828de2"
   },
   "outputs": [],
   "source": [
    "df.loc[0, 'input']"
   ]
  },
  {
   "cell_type": "code",
   "execution_count": null,
   "metadata": {
    "colab": {
     "base_uri": "https://localhost:8080/",
     "height": 61
    },
    "colab_type": "code",
    "collapsed": false,
    "id": "bzGUVZvmT1lr",
    "outputId": "3d1fa62d-21b6-49d4-9ef2-c225f6c88139"
   },
   "outputs": [],
   "source": [
    "input_file = df.loc[0, 'input']\n",
    "x, sr = load(input_file)\n",
    "ipd.Audio(x, rate = sr)"
   ]
  },
  {
   "cell_type": "code",
   "execution_count": null,
   "metadata": {
    "colab": {
     "base_uri": "https://localhost:8080/",
     "height": 61
    },
    "colab_type": "code",
    "collapsed": false,
    "id": "25uaWjmzUqCi",
    "outputId": "cefffb04-09e6-41c8-f5c8-6bcbbadcec04"
   },
   "outputs": [],
   "source": [
    "output_file = df.loc[0, 'output']\n",
    "y, sr = load(output_file)\n",
    "ipd.Audio(y, rate = sr)"
   ]
  },
  {
   "cell_type": "markdown",
   "metadata": {},
   "source": [
    "# Dataset Split"
   ]
  },
  {
   "cell_type": "code",
   "execution_count": 3,
   "metadata": {
    "collapsed": false
   },
   "outputs": [],
   "source": [
    "import os\n",
    "from time import time\n",
    "from tqdm import tqdm\n",
    "import pandas as pd\n",
    "import numpy as np\n",
    "import librosa\n",
    "import librosa.display\n",
    "import librosa.output\n",
    "import IPython.display as ipd\n",
    "from sklearn.cross_validation import train_test_split\n",
    "#import matplotlib.pyplot as plt\n",
    "#%matplotlib inline\n",
    "PATH = '../datasets'"
   ]
  },
  {
   "cell_type": "code",
   "execution_count": 4,
   "metadata": {
    "colab": {
     "base_uri": "https://localhost:8080/",
     "height": 934
    },
    "colab_type": "code",
    "collapsed": false,
    "id": "5HCtacad96XW",
    "outputId": "f5a437c7-c777-4f7f-f32d-929d36e41edc"
   },
   "outputs": [
    {
     "name": "stderr",
     "output_type": "stream",
     "text": [
      "690it [07:56,  1.30it/s]\n",
      "296it [04:24,  1.05it/s]\n"
     ]
    }
   ],
   "source": [
    "N = 5000\n",
    "TEST_SIZE = 0.3\n",
    "SEED = 42\n",
    "df = pd.read_csv(os.path.join(PATH, 'raw2noisy.csv'))\n",
    "M = len(df)\n",
    "df_train, df_test = train_test_split(df.head(M), test_size = TEST_SIZE, random_state = SEED)\n",
    "df_train, df_test = df_train.reset_index(), df_test.reset_index()\n",
    "M_train, M_test = len(df_train), len(df_test)\n",
    "X_train, Y_train = np.zeros((M_train, N, 1)), np.zeros((M_train, N, 1))\n",
    "for i, row in tqdm(df_train.head(M).iterrows()):\n",
    "    X_train[i, :, 0], Y_train[i, :, 0] = librosa.load(row['input'])[0][:N], librosa.load(row['output'])[0][:N]\n",
    "X_test, Y_test = np.zeros((M_test, N, 1)), np.zeros((M_test, N, 1))\n",
    "for i, row in tqdm(df_test.head(M).iterrows()):\n",
    "    X_test[i, :, 0], Y_test[i, :, 0] = librosa.load(row['input'])[0][:N], librosa.load(row['output'])[0][:N]"
   ]
  },
  {
   "cell_type": "markdown",
   "metadata": {
    "colab_type": "text",
    "id": "hbLxM94A2Wm5"
   },
   "source": [
    "# Encoder-Decoder LSTM"
   ]
  },
  {
   "cell_type": "code",
   "execution_count": 9,
   "metadata": {
    "colab": {
     "base_uri": "https://localhost:8080/",
     "height": 34
    },
    "colab_type": "code",
    "collapsed": false,
    "id": "W6_z1_uy19II",
    "outputId": "c24a7779-ed1c-4d42-bae7-2b237ee57d10"
   },
   "outputs": [],
   "source": [
    "from keras.models import Sequential\n",
    "from keras.layers import LSTM, Dropout, RepeatVector, TimeDistributed, Dense\n",
    "from keras.callbacks import EarlyStopping\n",
    "from keras.optimizers import Adam"
   ]
  },
  {
   "cell_type": "code",
   "execution_count": null,
   "metadata": {
    "collapsed": true
   },
   "outputs": [],
   "source": [
    "import tensorflow as tf\n",
    "device_name = tf.test.gpu_device_name()\n",
    "if device_name != '/device:GPU:0':\n",
    "    raise SystemError('GPU device not found')\n",
    "print('Found GPU at: {}'.format(device_name))"
   ]
  },
  {
   "cell_type": "code",
   "execution_count": 10,
   "metadata": {
    "colab": {},
    "colab_type": "code",
    "collapsed": false,
    "id": "ZPKqMNCQ2enh"
   },
   "outputs": [
    {
     "name": "stdout",
     "output_type": "stream",
     "text": [
      "_________________________________________________________________\n",
      "Layer (type)                 Output Shape              Param #   \n",
      "=================================================================\n",
      "encoder (LSTM)               (None, 64)                16896     \n",
      "_________________________________________________________________\n",
      "dropout_2 (Dropout)          (None, 64)                0         \n",
      "_________________________________________________________________\n",
      "repeat_vector_2 (RepeatVecto (None, 5000, 64)          0         \n",
      "_________________________________________________________________\n",
      "decoder (LSTM)               (None, 5000, 64)          33024     \n",
      "_________________________________________________________________\n",
      "time_distributed_2 (TimeDist (None, 5000, 1)           65        \n",
      "=================================================================\n",
      "Total params: 49,985\n",
      "Trainable params: 49,985\n",
      "Non-trainable params: 0\n",
      "_________________________________________________________________\n"
     ]
    }
   ],
   "source": [
    "INPUT_LENGTH = N\n",
    "N_CELLS = 64\n",
    "DROPOUT = 0.4\n",
    "LEARNING_RATE = 0.0001\n",
    "OPTIMIZER = 'adam'\n",
    "LOSS = 'mse'\n",
    "ACTIVATION = 'tanh'\n",
    "\n",
    "model = Sequential()\n",
    "model.add(LSTM(N_CELLS, activation = ACTIVATION, input_shape = (INPUT_LENGTH, 1), name = 'encoder'))\n",
    "model.add(Dropout(DROPOUT))\n",
    "model.add(RepeatVector(N))\n",
    "model.add(LSTM(N_CELLS, activation = ACTIVATION, return_sequences = True, name = 'decoder'))\n",
    "model.add(TimeDistributed(Dense(1)))\n",
    "model.compile(optimizer = Adam(lr = LEARNING_RATE), loss = LOSS)\n",
    "model.summary()"
   ]
  },
  {
   "cell_type": "code",
   "execution_count": null,
   "metadata": {
    "colab": {
     "base_uri": "https://localhost:8080/",
     "height": 1754
    },
    "colab_type": "code",
    "collapsed": false,
    "id": "ObWUtpphDF2V",
    "outputId": "5665b2c3-b039-45c7-91f9-a7d18b34989a"
   },
   "outputs": [
    {
     "name": "stdout",
     "output_type": "stream",
     "text": [
      "Train on 690 samples, validate on 296 samples\n",
      "Epoch 1/20\n",
      "690/690 [==============================] - 158s 229ms/step - loss: 0.0040 - val_loss: 0.0039\n",
      "Epoch 2/20\n",
      "690/690 [==============================] - 159s 231ms/step - loss: 0.0039 - val_loss: 0.0039\n",
      "Epoch 3/20\n",
      "690/690 [==============================] - 157s 228ms/step - loss: 0.0038 - val_loss: 0.0039\n",
      "Epoch 4/20\n",
      "200/690 [=======>......................] - ETA: 1:51 - loss: 0.0041"
     ]
    }
   ],
   "source": [
    "EPOCHS = 20\n",
    "BATCH_SIZE = 50\n",
    "PATIENCE = 3\n",
    "MIN_DELTA = 1e-2\n",
    "callbacks = [\n",
    "    EarlyStopping(\n",
    "        monitor='val_loss', \n",
    "        min_delta = MIN_DELTA, \n",
    "        patience = PATIENCE, \n",
    "        verbose = 0, \n",
    "        mode = 'auto', \n",
    "        restore_best_weights = True\n",
    "    )\n",
    "]\n",
    "history = model.fit(\n",
    "    X_train, \n",
    "    Y_train,\n",
    "    validation_data = (X_test, Y_test),\n",
    "    callbacks = callbacks,\n",
    "    epochs = EPOCHS,\n",
    "    batch_size = BATCH_SIZE,\n",
    "    verbose = 1\n",
    ")"
   ]
  },
  {
   "cell_type": "code",
   "execution_count": null,
   "metadata": {
    "collapsed": true
   },
   "outputs": [],
   "source": [
    "ts = time()\n",
    "df_report_filename = os.path.join(PATH, 'report.csv')\n",
    "if not os.path.exists(report_df_filename):\n",
    "    columns = [\n",
    "        'timestamp', \n",
    "        'json', 'h5', \n",
    "        'n', \n",
    "        'm', \n",
    "        'test_size', \n",
    "        'seed', \n",
    "        'n_cells', \n",
    "        'dropout', \n",
    "        'optimizer', \n",
    "        'learning_rate', \n",
    "        'loss', \n",
    "        'activation',\n",
    "        'epochs',\n",
    "        'batch_size',\n",
    "        'patience',\n",
    "        'min_delta'\n",
    "    ]\n",
    "    df_report = pd.DataFrame()\n",
    "else:\n",
    "    df_report = pd.read_csv(report_df_filename)\n",
    "json = model.to_json()\n",
    "json_filename = os.path.join(PATH, 'model-{}.json'.format(int(ts)))\n",
    "h5_filename = os.path.join(PATH, 'model-{}.h5'.format(int(ts)))\n",
    "with open(json_filename, 'w') as file:\n",
    "    file.write(json)\n",
    "    file.close()\n",
    "    model.save_weights(h5_filename)\n",
    "    df_report.loc[len(df_report)] = [\n",
    "        str(ts), \n",
    "        N, \n",
    "        M, \n",
    "        TEST_SIZE, \n",
    "        SEED, \n",
    "        N_CELLS, \n",
    "        DROPOUT, \n",
    "        OPTIMIZER, \n",
    "        LEARNING_RATE, \n",
    "        LOSS, \n",
    "        ACTIVATION,\n",
    "        EPOCHS,\n",
    "        BATCH_SIZE,\n",
    "        PATIENCE,\n",
    "        MIN_DELTA\n",
    "    ]\n",
    "    print('Saved model to disk.')"
   ]
  },
  {
   "cell_type": "code",
   "execution_count": null,
   "metadata": {
    "collapsed": true
   },
   "outputs": [],
   "source": [
    "with open(json_filename, 'r') as file:\n",
    "    json = file.read()\n",
    "    file.close()\n",
    "    model = model_from_json(json)\n",
    "    model.load_weights(h5_filename)\n",
    "    print(\"Loaded model from disk\")"
   ]
  },
  {
   "cell_type": "code",
   "execution_count": null,
   "metadata": {
    "colab": {
     "base_uri": "https://localhost:8080/",
     "height": 61
    },
    "colab_type": "code",
    "collapsed": false,
    "id": "VCdxsvH-eg1v",
    "outputId": "30699ca7-5faa-431d-c5ca-e13de3e578d4"
   },
   "outputs": [],
   "source": [
    "Y_pred = model.predict(X, verbose = 0)\n",
    "save(os.path.join(path, 'pred.wav'), Y_pred.flatten(), sr)\n",
    "ipd.Audio(Y_pred.flatten(), rate = sr)"
   ]
  },
  {
   "cell_type": "code",
   "execution_count": null,
   "metadata": {
    "colab": {
     "base_uri": "https://localhost:8080/",
     "height": 280
    },
    "colab_type": "code",
    "collapsed": false,
    "id": "AHhE49SfbAac",
    "outputId": "601e4ac7-932c-416d-c0b4-ed5227d1d5a5"
   },
   "outputs": [],
   "source": [
    "#train_mse = history.history['mse']\n",
    "#validation_mse = history.history['val_mean_squared_error']\n",
    "train_loss = history.history['loss']\n",
    "#validation_loss = history.history['val_loss']\n",
    "\n",
    "epochs = range(len(train_loss))\n",
    "\n",
    "#plt.plot(epochs, train_mse, 'b-', label = 'Training MSE')\n",
    "#plt.plot(epochs, validation_mse, 'r-', label = 'Validation MSE')\n",
    "#plt.title('Training and validation MSE')\n",
    "#plt.legend()\n",
    "\n",
    "plt.figure()\n",
    "plt.plot(epochs, train_loss, 'b-', label = 'Training loss')\n",
    "#plt.plot(epochs, validation_loss, 'r-', label = 'Validation loss')\n",
    "plt.title('Training and validation loss')\n",
    "plt.legend()\n",
    "\n",
    "plt.show()"
   ]
  },
  {
   "cell_type": "code",
   "execution_count": null,
   "metadata": {
    "colab": {
     "base_uri": "https://localhost:8080/",
     "height": 351
    },
    "colab_type": "code",
    "collapsed": false,
    "id": "kVrMxE5mjVKB",
    "outputId": "7ac034c0-0224-4831-aa78-1e505fa73976"
   },
   "outputs": [],
   "source": [
    "fig = plt.figure(figsize = (14, 5))\n",
    "librosa.display.waveplot(Y_pred.flatten(), sr)"
   ]
  },
  {
   "cell_type": "code",
   "execution_count": null,
   "metadata": {
    "colab": {},
    "colab_type": "code",
    "collapsed": true,
    "id": "hxDzzWGqjx78"
   },
   "outputs": [],
   "source": []
  }
 ],
 "metadata": {
  "accelerator": "GPU",
  "colab": {
   "collapsed_sections": [],
   "name": "lstm_autoencoder",
   "provenance": [],
   "toc_visible": true,
   "version": "0.3.2"
  },
  "kernelspec": {
   "display_name": "Python 3",
   "language": "python",
   "name": "python3"
  },
  "language_info": {
   "codemirror_mode": {
    "name": "ipython",
    "version": 3
   },
   "file_extension": ".py",
   "mimetype": "text/x-python",
   "name": "python",
   "nbconvert_exporter": "python",
   "pygments_lexer": "ipython3",
   "version": "3.5.6"
  }
 },
 "nbformat": 4,
 "nbformat_minor": 2
}
